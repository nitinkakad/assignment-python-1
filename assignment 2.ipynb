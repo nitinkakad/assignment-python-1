{
 "cells": [
  {
   "cell_type": "code",
   "execution_count": null,
   "metadata": {},
   "outputs": [],
   "source": [
    "##### 1.What are the two values of the Boolean data type? How do you write them?\n",
    ">>>\n",
    "\n",
    "A variable of the primitive data type boolean can have two values: true and false\n",
    "   \n",
    "  zero_int = 0\n",
    ">>> bool(zero_int)\n",
    "False\n",
    "\n",
    "pos_int = 1\n",
    ">>> bool(pos_int)\n",
    "True\n",
    "\n",
    "neg_flt = -5.1\n",
    ">>> bool(neg_flt)\n",
    "True\n"
   ]
  },
  {
   "cell_type": "code",
   "execution_count": null,
   "metadata": {},
   "outputs": [],
   "source": [
    "### 2. What are the three different types of Boolean operators?\n",
    "\n",
    ">>>>> \n",
    "    AND, \n",
    "    OR, \n",
    "    NOT,\n",
    "    TRUE,\n",
    "    FALSE\n",
    "    "
   ]
  },
  {
   "cell_type": "code",
   "execution_count": null,
   "metadata": {},
   "outputs": [],
   "source": [
    "#### 3 . Make a list of each Boolean operator's truth tables (i.e. every possible combination of Boolean values for the operator and what it evaluate ).\n",
    "\n",
    ">>>>> TRUE,FALSE,NOT,AND,OR\n",
    "\n",
    "T= True,F = False\n",
    "      \n",
    "A      B    A and B\n",
    "T      T       T\n",
    "T      F       F\n",
    "F      T       F\n",
    "F      F       F\n",
    "   \n",
    "A      B    A OR B\n",
    "T      T     T\n",
    "T      F     T\n",
    "F      T     T\n",
    "F      F     F"
   ]
  },
  {
   "cell_type": "code",
   "execution_count": 1,
   "metadata": {},
   "outputs": [
    {
     "data": {
      "text/plain": [
       "True"
      ]
     },
     "execution_count": 1,
     "metadata": {},
     "output_type": "execute_result"
    }
   ],
   "source": [
    "####  4. What are the values of the following expressions?\n",
    "\n",
    "(5 > 4) and (3 == 5)\n",
    "not (5 > 4)\n",
    "(5 > 4) or (3 == 5)\n",
    "not ((5 > 4) or (3 == 5))\n",
    "(True and True) and (True == False)\n",
    "(not False) or (not True)\n"
   ]
  },
  {
   "cell_type": "code",
   "execution_count": null,
   "metadata": {},
   "outputs": [],
   "source": [
    "#### 5. What are the six comparison operators?\n",
    ">>>>\n",
    "Comparison operators — operators that compare values and return true or false .\n",
    "\n",
    "The operators include: > , < , >= , <= , === , and !== . "
   ]
  },
  {
   "cell_type": "code",
   "execution_count": null,
   "metadata": {},
   "outputs": [],
   "source": [
    "### 6.. How do you tell the difference between the equal to and assignment operators?\n",
    "Describe a condition and when you would use one.\n",
    ">>>>\n",
    "\"=\"   it is an assignment operator \n",
    "      it is used to assingning value to a variable\n",
    "    \n",
    "    \n",
    "\"==\"  It is a relational or comparison operator.\n",
    "      It is used for comparing two values. It returns 1 if both the values are equal otherwise returns 0.\n"
   ]
  },
  {
   "cell_type": "code",
   "execution_count": 11,
   "metadata": {},
   "outputs": [
    {
     "name": "stdout",
     "output_type": "stream",
     "text": [
      "ham\n",
      "spam\n",
      "spam\n"
     ]
    }
   ],
   "source": [
    "###### 7. Identify the three blocks in this code:\n",
    "\n",
    "\n",
    "spam = 0\n",
    "if spam == 10:\n",
    "    print('eggs')\n",
    "if spam > 5:\n",
    "    print('bacon')\n",
    "else:\n",
    "    print('ham')\n",
    "print('spam')\n",
    "print('spam')\n"
   ]
  },
  {
   "cell_type": "code",
   "execution_count": null,
   "metadata": {},
   "outputs": [],
   "source": [
    "### 8. Write code that prints Hello if 1 is stored in spam, prints Howdy if 2 is stored in spam,and prints Greetings! if anything else is stored in spam.\n",
    "\n",
    "\n",
    "spam = input()\n",
    "\n",
    "if spam == 1:\n",
    "    print('Hello')\n",
    "elif spam == 2:\n",
    "    print('Howdy')\n",
    "else:\n",
    "    print('Greetings!')\n"
   ]
  },
  {
   "cell_type": "code",
   "execution_count": null,
   "metadata": {},
   "outputs": [],
   "source": [
    "##9.If your programme is stuck in an endless loop, what keys you’ll press?\n",
    ">>> \n",
    "press CTRL+ c\n"
   ]
  },
  {
   "cell_type": "code",
   "execution_count": null,
   "metadata": {},
   "outputs": [],
   "source": [
    "### 10. How can you tell the difference between break and continue?\n",
    ">>>\n",
    "Break\n",
    "'break' stops the continuation of loop.\n",
    "'break' can be used with 'switch', 'label'.\n",
    "\n",
    "continue\n",
    "'continue' do not stops the continuation of loop, it only stops the current iteration.\n",
    "'continue' can not be executed with 'switch' and 'labels'."
   ]
  },
  {
   "cell_type": "code",
   "execution_count": 3,
   "metadata": {},
   "outputs": [
    {
     "name": "stdout",
     "output_type": "stream",
     "text": [
      "0\n",
      "1\n",
      "2\n",
      "3\n",
      "4\n",
      "5\n",
      "6\n",
      "7\n",
      "8\n",
      "9\n"
     ]
    }
   ],
   "source": [
    "### 11.  In a for loop, what is the difference between range(10), range(0, 10), and range(0, 10, 1)?\n",
    ">>>>\n",
    "# range(stop)\n",
    "# When user call range() with one argument, user will get a series of numbers that starts at 0 and includes every whole number up to, \n",
    "#but not including, the number that user have provided as the stop.\n",
    "\n",
    "for i in range(10):\n",
    "  print(i)"
   ]
  },
  {
   "cell_type": "code",
   "execution_count": 5,
   "metadata": {},
   "outputs": [
    {
     "name": "stdout",
     "output_type": "stream",
     "text": [
      "0\n",
      "1\n",
      "2\n",
      "3\n",
      "4\n",
      "5\n",
      "6\n",
      "7\n",
      "8\n",
      "9\n"
     ]
    }
   ],
   "source": [
    "# range(start, stop)\n",
    "# When user call range() with two arguments, user get to decide not only where the series of numbers stops but also where it starts, so user don’t have to start at 0 all the time. \n",
    "#User can use range() to generate a series of numbers from X to Y using a range(X, Y).\n",
    "\n",
    "for i in range(0,10):\n",
    "    print(i)"
   ]
  },
  {
   "cell_type": "code",
   "execution_count": 2,
   "metadata": {},
   "outputs": [
    {
     "name": "stdout",
     "output_type": "stream",
     "text": [
      "0\n",
      "1\n",
      "2\n",
      "3\n",
      "4\n",
      "5\n",
      "6\n",
      "7\n",
      "8\n",
      "9\n"
     ]
    }
   ],
   "source": [
    "# range(start, stop,step)\n",
    "#When user call range() with three arguments, user can choose not only where the series of numbers will start and stop but also how big the difference will be between one number and the next. \n",
    "#If user don’t provide a step, then range() will automatically behave as if the step is 1.\n",
    "\n",
    "for i in range(0,10,1):\n",
    "    print(i)"
   ]
  },
  {
   "cell_type": "code",
   "execution_count": null,
   "metadata": {},
   "outputs": [],
   "source": [
    "### 12. Write a short program that prints the numbers 1 to 10 using a for loop.\n",
    "#     Then write an equivalent program that prints the numbers 1 to 10 using a while loop\n"
   ]
  },
  {
   "cell_type": "code",
   "execution_count": 5,
   "metadata": {},
   "outputs": [
    {
     "name": "stdout",
     "output_type": "stream",
     "text": [
      "1\n",
      "2\n",
      "3\n",
      "4\n",
      "5\n",
      "6\n",
      "7\n",
      "8\n",
      "9\n",
      "10\n"
     ]
    }
   ],
   "source": [
    "for i in range(1,11):\n",
    " print(i)"
   ]
  },
  {
   "cell_type": "code",
   "execution_count": 1,
   "metadata": {},
   "outputs": [
    {
     "name": "stdout",
     "output_type": "stream",
     "text": [
      "1\n",
      "2\n",
      "3\n",
      "4\n",
      "5\n",
      "6\n",
      "7\n",
      "8\n",
      "9\n",
      "10\n"
     ]
    }
   ],
   "source": [
    "# while loop\n",
    "i=1\n",
    "while i<=10:\n",
    "    print(i)\n",
    "    i+=1"
   ]
  },
  {
   "cell_type": "code",
   "execution_count": null,
   "metadata": {},
   "outputs": [],
   "source": [
    "###13. If you had a function named bacon() inside a module named spam, how would you call it after importing spam?\n"
   ]
  }
 ],
 "metadata": {
  "kernelspec": {
   "display_name": "Python 3",
   "language": "python",
   "name": "python3"
  },
  "language_info": {
   "codemirror_mode": {
    "name": "ipython",
    "version": 3
   },
   "file_extension": ".py",
   "mimetype": "text/x-python",
   "name": "python",
   "nbconvert_exporter": "python",
   "pygments_lexer": "ipython3",
   "version": "3.8.5"
  }
 },
 "nbformat": 4,
 "nbformat_minor": 4
}
